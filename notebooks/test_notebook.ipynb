{
 "cells": [
  {
   "cell_type": "code",
   "execution_count": 1,
   "metadata": {
    "colab": {
     "base_uri": "https://localhost:8080/"
    },
    "executionInfo": {
     "elapsed": 7405,
     "status": "ok",
     "timestamp": 1675104289160,
     "user": {
      "displayName": "Mads Peter",
      "userId": "17682519079496254450"
     },
     "user_tz": -60
    },
    "id": "IgaeEng09f8U",
    "outputId": "8c4c168c-769b-42fd-d91b-25486e0a5fa6"
   },
   "outputs": [],
   "source": [
    "!git clone https://gitlab.au.dk/au616397/python_teaching_2023 > git_output.txt\n",
    "!pip install python_teaching_2023/utils_package/ > pip_output.txt"
   ]
  },
  {
   "cell_type": "markdown",
   "metadata": {
    "id": "IOfGb0WJ9RRg"
   },
   "source": [
    "Den her celle gør at Jupyter-kernelen ikke skal genstartes når der laves ændringer i en importeret fil. "
   ]
  },
  {
   "cell_type": "code",
   "execution_count": 2,
   "metadata": {
    "executionInfo": {
     "elapsed": 909,
     "status": "ok",
     "timestamp": 1675104293494,
     "user": {
      "displayName": "Mads Peter",
      "userId": "17682519079496254450"
     },
     "user_tz": -60
    },
    "id": "RMFfjN8u9RRi"
   },
   "outputs": [],
   "source": [
    "%load_ext autoreload\n",
    "%autoreload 2"
   ]
  },
  {
   "cell_type": "code",
   "execution_count": 3,
   "metadata": {
    "executionInfo": {
     "elapsed": 2,
     "status": "ok",
     "timestamp": 1675104294515,
     "user": {
      "displayName": "Mads Peter",
      "userId": "17682519079496254450"
     },
     "user_tz": -60
    },
    "id": "PLZ6hmZ69RRj"
   },
   "outputs": [],
   "source": [
    "from emo_utils.test_function import simple_test, plot_function"
   ]
  },
  {
   "cell_type": "code",
   "execution_count": 4,
   "metadata": {
    "colab": {
     "base_uri": "https://localhost:8080/",
     "height": 265
    },
    "executionInfo": {
     "elapsed": 1043,
     "status": "ok",
     "timestamp": 1675104297703,
     "user": {
      "displayName": "Mads Peter",
      "userId": "17682519079496254450"
     },
     "user_tz": -60
    },
    "id": "2ObERBLF9RRj",
    "outputId": "b502cf88-959e-48ee-fb21-26875608558f"
   },
   "outputs": [],
   "source": [
    "x = [0, 1, 2, 3]\n",
    "\n",
    "plot_function(x, simple_test)"
   ]
  },
  {
   "cell_type": "code",
   "execution_count": null,
   "metadata": {
    "id": "_-6FsVI59RRk"
   },
   "outputs": [],
   "source": []
  }
 ],
 "metadata": {
  "colab": {
   "provenance": [],
   "toc_visible": true
  },
  "kernelspec": {
   "display_name": "agox-v2",
   "language": "python",
   "name": "python3"
  },
  "language_info": {
   "codemirror_mode": {
    "name": "ipython",
    "version": 3
   },
   "file_extension": ".py",
   "mimetype": "text/x-python",
   "name": "python",
   "nbconvert_exporter": "python",
   "pygments_lexer": "ipython3",
   "version": "3.8.3"
  },
  "vscode": {
   "interpreter": {
    "hash": "e55d175a647e61e9882adb58f388f74c31ae611d8119c6ffec9c4b5254f737ba"
   }
  }
 },
 "nbformat": 4,
 "nbformat_minor": 0
}
